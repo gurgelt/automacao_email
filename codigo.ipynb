{
 "cells": [
  {
   "cell_type": "code",
   "execution_count": 10,
   "metadata": {},
   "outputs": [
    {
     "name": "stdout",
     "output_type": "stream",
     "text": [
      "E-mail enviado\n"
     ]
    }
   ],
   "source": [
    "import smtplib\n",
    "import email.message\n",
    "\n",
    "# Função para mandar e-mail automático no GMAIL - Lembre sempre de alterar o \"password\" através do (Google - Configurações - Segurança - Senhas de App e gerar um novo código)\n",
    "\n",
    "def enviar_email():\n",
    "    \n",
    "    corpo_email = \"\"\"\n",
    "        <p> TE AMO MOOOOOOOOOOOMOOOO <3 <p>\n",
    "    \"\"\"\n",
    "    \n",
    "    msg = email.message.Message()\n",
    "    msg['Subject'] = \"Assunto\"\n",
    "    msg['From'] = 'paulo.gtcanal@gmail.com'\n",
    "    msg['To'] = 'viviancaroline166@gmail.com'\n",
    "    password = 'qmmtfidjmlaxjaca' # Google -> Config -> Segurança -> Senhas de App\n",
    "    msg.add_header('Content-Type', 'text/html')\n",
    "    msg.set_payload(corpo_email)\n",
    "    \n",
    "    s = smtplib.SMTP('smtp.gmail.com: 587')\n",
    "    s.starttls()\n",
    "    \n",
    "    # Credenciais de login para mandar o e-mail\n",
    "    s.login(msg['From'], password)\n",
    "    s.sendmail(msg['From'], [msg['To']], msg.as_string().encode('utf-8'))\n",
    "    print(\"E-mail enviado\")\n",
    "    \n",
    "enviar_email()"
   ]
  }
 ],
 "metadata": {
  "kernelspec": {
   "display_name": "Python 3",
   "language": "python",
   "name": "python3"
  },
  "language_info": {
   "codemirror_mode": {
    "name": "ipython",
    "version": 3
   },
   "file_extension": ".py",
   "mimetype": "text/x-python",
   "name": "python",
   "nbconvert_exporter": "python",
   "pygments_lexer": "ipython3",
   "version": "3.12.3"
  }
 },
 "nbformat": 4,
 "nbformat_minor": 2
}
